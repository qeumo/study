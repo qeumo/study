{
 "cells": [
  {
   "cell_type": "code",
   "execution_count": 1,
   "id": "aff13f9e",
   "metadata": {},
   "outputs": [],
   "source": [
    "import pandas as pd\n",
    "import numpy as np\n",
    "from scipy.stats import fisher_exact, chisquare\n",
    "import seaborn as sns\n",
    "sns.set()\n",
    "import matplotlib.pyplot as plt\n",
    "import warnings\n",
    "warnings.filterwarnings('ignore')\n",
    "# sharper plots\n",
    "%config InlineBackend.figure_format = 'retina'"
   ]
  },
  {
   "cell_type": "code",
   "execution_count": 109,
   "id": "f54ed2fc",
   "metadata": {},
   "outputs": [],
   "source": [
    "# T-Test for Ficher criteria and Chi-squared\n",
    "def smart_test(df: pd.DataFrame):\n",
    "    # Ficher criteria\n",
    "    if (df.shape[0] * df.shape[1] == 4):\n",
    "        if (df.values < 5).any():\n",
    "            return fisher_exact(df)[1]\n",
    "    # Chi-squared\n",
    "    dfree = (df.shape[0] - 1) * (df.shape[1] - 1)\n",
    "    return list(chisquare(df, axis=None)), dfree"
   ]
  },
  {
   "cell_type": "code",
   "execution_count": 110,
   "id": "5c1d9127",
   "metadata": {},
   "outputs": [
    {
     "name": "stdout",
     "output_type": "stream",
     "text": [
      "0.6692690806299642\n"
     ]
    }
   ],
   "source": [
    "df = pd.DataFrame([{'A': 3, 'B': 7}, {'A':6, 'B': 7}])\n",
    "print(smart_test(df))"
   ]
  },
  {
   "cell_type": "code",
   "execution_count": 232,
   "id": "8ac66c28",
   "metadata": {},
   "outputs": [],
   "source": [
    "def most_significant(df: pd.DataFrame):\n",
    "    min_p_index = chisquare(df, axis=0).pvalue.argmin()\n",
    "    return df.iloc[:,min_p_index].name"
   ]
  },
  {
   "cell_type": "code",
   "execution_count": 233,
   "id": "980a608b",
   "metadata": {},
   "outputs": [
    {
     "data": {
      "text/html": [
       "<div>\n",
       "<style scoped>\n",
       "    .dataframe tbody tr th:only-of-type {\n",
       "        vertical-align: middle;\n",
       "    }\n",
       "\n",
       "    .dataframe tbody tr th {\n",
       "        vertical-align: top;\n",
       "    }\n",
       "\n",
       "    .dataframe thead th {\n",
       "        text-align: right;\n",
       "    }\n",
       "</style>\n",
       "<table border=\"1\" class=\"dataframe\">\n",
       "  <thead>\n",
       "    <tr style=\"text-align: right;\">\n",
       "      <th></th>\n",
       "      <th>V1</th>\n",
       "      <th>V2</th>\n",
       "      <th>V3</th>\n",
       "    </tr>\n",
       "  </thead>\n",
       "  <tbody>\n",
       "    <tr>\n",
       "      <th>G</th>\n",
       "      <td>10</td>\n",
       "      <td>10</td>\n",
       "      <td>6</td>\n",
       "    </tr>\n",
       "    <tr>\n",
       "      <th>T</th>\n",
       "      <td>7</td>\n",
       "      <td>5</td>\n",
       "      <td>9</td>\n",
       "    </tr>\n",
       "    <tr>\n",
       "      <th>C</th>\n",
       "      <td>7</td>\n",
       "      <td>9</td>\n",
       "      <td>4</td>\n",
       "    </tr>\n",
       "    <tr>\n",
       "      <th>A</th>\n",
       "      <td>6</td>\n",
       "      <td>6</td>\n",
       "      <td>11</td>\n",
       "    </tr>\n",
       "  </tbody>\n",
       "</table>\n",
       "</div>"
      ],
      "text/plain": [
       "   V1  V2  V3\n",
       "G  10  10   6\n",
       "T   7   5   9\n",
       "C   7   9   4\n",
       "A   6   6  11"
      ]
     },
     "execution_count": 233,
     "metadata": {},
     "output_type": "execute_result"
    }
   ],
   "source": [
    "test_data = pd.read_csv(\"data/test_data.csv\")\n",
    "df = pd.DataFrame()\n",
    "for column in test_data.columns:\n",
    "    df[column] = test_data[column].value_counts()\n",
    "df"
   ]
  },
  {
   "cell_type": "code",
   "execution_count": 234,
   "id": "bf190b9f",
   "metadata": {},
   "outputs": [
    {
     "name": "stdout",
     "output_type": "stream",
     "text": [
      "V3\n"
     ]
    }
   ],
   "source": [
    "print(most_significant(df))"
   ]
  },
  {
   "cell_type": "markdown",
   "id": "6d5f56fe",
   "metadata": {},
   "source": [
    "### Create feature \"important_cases\" for iris dataset\n"
   ]
  },
  {
   "cell_type": "code",
   "execution_count": 255,
   "id": "0fa7b2bf",
   "metadata": {},
   "outputs": [],
   "source": [
    "from sklearn import datasets\n",
    "\n",
    "iris = datasets.load_iris()\n",
    "iris_df = pd.DataFrame(iris[\"data\"], columns=iris[\"feature_names\"])\n",
    "comparisons = (iris_df > iris_df.mean(axis=0)).sum(axis=1)\n",
    "iris_df[\"important_cases\"] = \"No\"\n",
    "iris_df.loc[comparisons >= 3, \"important_cases\"] = \"Yes\""
   ]
  },
  {
   "cell_type": "code",
   "execution_count": 256,
   "id": "00d3e9ad",
   "metadata": {},
   "outputs": [],
   "source": [
    "def get_important_cases(df: pd.DataFrame):\n",
    "    comparisons = (df > df.mean(axis=0)).sum(axis=1)\n",
    "    df[\"important_cases\"] = \"No\"\n",
    "    df.loc[comparisons > df.shape[1] / 2, \"important_cases\"] = \"Yes\""
   ]
  },
  {
   "cell_type": "code",
   "execution_count": 111,
   "id": "33e3ccb9",
   "metadata": {},
   "outputs": [],
   "source": [
    "import statsmodels.api as sm\n",
    "from sklearn.linear_model import LogisticRegression\n",
    "from sklearn.preprocessing import LabelEncoder"
   ]
  },
  {
   "cell_type": "code",
   "execution_count": 3,
   "id": "d42c71c3",
   "metadata": {},
   "outputs": [],
   "source": [
    "def max_resid(df: pd.DataFrame):\n",
    "    table = sm.stats.Table(pd.crosstab(df.columns[0], df.columns[1]))\n",
    "    return table.standardized_resids.argmax() # index of max residuals"
   ]
  },
  {
   "cell_type": "code",
   "execution_count": 2,
   "id": "9c574a9c",
   "metadata": {},
   "outputs": [
    {
     "name": "stdout",
     "output_type": "stream",
     "text": [
      "[[-2.44597988]]\n",
      "[1.01628767]\n"
     ]
    }
   ],
   "source": [
    "from sklearn.linear_model import LogisticRegression\n",
    "from sklearn.preprocessing import LabelEncoder\n",
    "df_train = pd.read_csv('data/titanic/train.csv')\n",
    "df_train['sex_cod'] = LabelEncoder().fit_transform(df_train.Sex)  # кодировка переменной \"пол\" (0, 1)\n",
    "x_train = df_train.sex_cod.values.reshape(-1, 1)  # преобразование списка в список списков\n",
    "y_train = df_train.Survived\n",
    "logreg = LogisticRegression()\n",
    "model = logreg.fit(x_train, y_train)\n",
    "print(model.coef_)\n",
    "print(model.intercept_)"
   ]
  },
  {
   "cell_type": "code",
   "execution_count": 30,
   "id": "2e29aef4",
   "metadata": {},
   "outputs": [],
   "source": [
    "def get_coefficients(df: pd.DataFrame):\n",
    "    X = df.drop(columns=df.columns[-1])\n",
    "    Y = df[df.columns[-1]]\n",
    "    model = LogisticRegression().fit(X, Y)\n",
    "    return np.r_[model.intercept_, model.coef_.flatten()]"
   ]
  },
  {
   "cell_type": "code",
   "execution_count": 31,
   "id": "f8a2751b",
   "metadata": {},
   "outputs": [
    {
     "data": {
      "text/plain": [
       "array([0.20081457, 0.02267641])"
      ]
     },
     "execution_count": 31,
     "metadata": {},
     "output_type": "execute_result"
    }
   ],
   "source": [
    "df = pd.read_csv(\"data/test_data_01.csv\")\n",
    "get_coefficients(df)"
   ]
  },
  {
   "cell_type": "code",
   "execution_count": 37,
   "id": "f51dc2b4",
   "metadata": {},
   "outputs": [],
   "source": [
    "def centered(df: pd.DataFrame, varss:list):\n",
    "    for var in varss:\n",
    "        df[var] = df[var] - df[var].mean()\n",
    "    return df"
   ]
  },
  {
   "cell_type": "code",
   "execution_count": 38,
   "id": "b24fc11f",
   "metadata": {
    "scrolled": true
   },
   "outputs": [
    {
     "data": {
      "text/html": [
       "<div>\n",
       "<style scoped>\n",
       "    .dataframe tbody tr th:only-of-type {\n",
       "        vertical-align: middle;\n",
       "    }\n",
       "\n",
       "    .dataframe tbody tr th {\n",
       "        vertical-align: top;\n",
       "    }\n",
       "\n",
       "    .dataframe thead th {\n",
       "        text-align: right;\n",
       "    }\n",
       "</style>\n",
       "<table border=\"1\" class=\"dataframe\">\n",
       "  <thead>\n",
       "    <tr style=\"text-align: right;\">\n",
       "      <th></th>\n",
       "      <th>X1</th>\n",
       "      <th>X2</th>\n",
       "      <th>X3</th>\n",
       "      <th>X4</th>\n",
       "    </tr>\n",
       "  </thead>\n",
       "  <tbody>\n",
       "    <tr>\n",
       "      <th>0</th>\n",
       "      <td>-1.04</td>\n",
       "      <td>-1.2</td>\n",
       "      <td>10.7</td>\n",
       "      <td>-0.62</td>\n",
       "    </tr>\n",
       "    <tr>\n",
       "      <th>1</th>\n",
       "      <td>-1.44</td>\n",
       "      <td>1.9</td>\n",
       "      <td>9.7</td>\n",
       "      <td>1.68</td>\n",
       "    </tr>\n",
       "    <tr>\n",
       "      <th>2</th>\n",
       "      <td>0.06</td>\n",
       "      <td>-3.5</td>\n",
       "      <td>8.4</td>\n",
       "      <td>1.78</td>\n",
       "    </tr>\n",
       "    <tr>\n",
       "      <th>3</th>\n",
       "      <td>0.06</td>\n",
       "      <td>0.0</td>\n",
       "      <td>7.7</td>\n",
       "      <td>-2.92</td>\n",
       "    </tr>\n",
       "    <tr>\n",
       "      <th>4</th>\n",
       "      <td>2.36</td>\n",
       "      <td>2.8</td>\n",
       "      <td>12.3</td>\n",
       "      <td>0.08</td>\n",
       "    </tr>\n",
       "  </tbody>\n",
       "</table>\n",
       "</div>"
      ],
      "text/plain": [
       "     X1   X2    X3    X4\n",
       "0 -1.04 -1.2  10.7 -0.62\n",
       "1 -1.44  1.9   9.7  1.68\n",
       "2  0.06 -3.5   8.4  1.78\n",
       "3  0.06  0.0   7.7 -2.92\n",
       "4  2.36  2.8  12.3  0.08"
      ]
     },
     "execution_count": 38,
     "metadata": {},
     "output_type": "execute_result"
    }
   ],
   "source": [
    "centered(pd.read_csv(\"https://stepic.org/media/attachments/course/524/cen_data.csv\"), [\"X4\", \"X2\", \"X1\"])"
   ]
  },
  {
   "cell_type": "code",
   "execution_count": 222,
   "id": "33c734f6",
   "metadata": {},
   "outputs": [],
   "source": [
    "def get_features(df: pd.DataFrame, depvar:str, printsum=False):\n",
    "    results = []\n",
    "    # Put numeric categories instead of objects\n",
    "#     obj_cols = df.select_dtypes(['object']).columns\n",
    "#     for col in obj_cols:\n",
    "#         df[col] = LabelEncoder().fit(df[col]).transform(df[col])\n",
    "    \n",
    "    X = df.drop(depvar, axis=1)\n",
    "    Y = df[depvar].to_frame()\n",
    "#     Y[depvar] = LabelEncoder().fit(Y).transform(Y)\n",
    "\n",
    "#     log_reg = sm.Logit(Y, X).fit()\n",
    "#     model = LogisticRegression().fit(X, Y)\n",
    "#     params = [model.intercept_, model.coef_] \n",
    "\n",
    "    logit_res = sf.glm(f'C({depvar}) ~ C(type) + weight + length + width', df, family = sm.families.Binomial()).fit()\n",
    "    print(logit_res.summary()) if printsum else \"\"\n",
    "    p = 0\n",
    "    results.append(logit_res.pvalues.loc[logit_res.pvalues < 0.05].index.tolist())\n",
    "    return results if len(results) > 1 else \"Prediction makes no sense\""
   ]
  },
  {
   "cell_type": "code",
   "execution_count": 223,
   "id": "7d2eee68",
   "metadata": {},
   "outputs": [
    {
     "data": {
      "text/plain": [
       "'Prediction makes no sense'"
      ]
     },
     "execution_count": 223,
     "metadata": {},
     "output_type": "execute_result"
    }
   ],
   "source": [
    "df = pd.read_csv(\"https://stepic.org/media/attachments/course/524/test_luggage_1.csv\")\n",
    "get_features(df, \"is_prohibited\")"
   ]
  },
  {
   "cell_type": "markdown",
   "id": "40d3bb99",
   "metadata": {},
   "source": [
    "### Predictions"
   ]
  },
  {
   "cell_type": "code",
   "execution_count": 217,
   "id": "7927cde1",
   "metadata": {},
   "outputs": [],
   "source": [
    "train_df = pd.read_csv(\"https://stepic.org/media/attachments/course/524/test_data_passangers.csv\")\n",
    "test_df = pd.read_csv(\"https://stepic.org/media/attachments/course/524/predict_passangers.csv\")"
   ]
  },
  {
   "cell_type": "code",
   "execution_count": 247,
   "id": "e26cff3b",
   "metadata": {
    "scrolled": true
   },
   "outputs": [],
   "source": [
    "def get_passenger_with_max_suspection(train_df: pd.DataFrame, test_df: pd.DataFrame):\n",
    "    logit_reg = sf.glm('C(is_prohibited) ~ C(type) + weight + length + width', train_df, family = sm.families.Binomial()).fit()\n",
    "    id_max_is_prohib = logit_reg.predict(test_df).idxmax()\n",
    "    return test_df.iloc[id_max_is_prohib,:][\"passangers\"]"
   ]
  },
  {
   "cell_type": "code",
   "execution_count": 248,
   "id": "80dd1b06",
   "metadata": {},
   "outputs": [
    {
     "name": "stdout",
     "output_type": "stream",
     "text": [
      "Vsevolod\n"
     ]
    }
   ],
   "source": [
    "print(get_passenger_with_max_suspection(train_df, test_df))"
   ]
  },
  {
   "cell_type": "code",
   "execution_count": 18,
   "id": "93d1ed65",
   "metadata": {},
   "outputs": [],
   "source": [
    "from scipy.stats import shapiro\n",
    "from pandas.api.types import is_string_dtype\n",
    "from pandas.api.types import is_numeric_dtype"
   ]
  },
  {
   "cell_type": "code",
   "execution_count": 19,
   "id": "34cecd02",
   "metadata": {},
   "outputs": [],
   "source": [
    "def gauss_test(df: pd.DataFrame):\n",
    "    return [shapiro(df[col]).pvalue for col in df.columns if is_numeric_dtype(df[col])]"
   ]
  },
  {
   "cell_type": "code",
   "execution_count": 20,
   "id": "5bb4c105",
   "metadata": {
    "scrolled": true
   },
   "outputs": [
    {
     "name": "stdout",
     "output_type": "stream",
     "text": [
      "[0.5682080984115601, 0.24583366513252258, 0.31419050693511963, 0.00937374122440815]\n"
     ]
    },
    {
     "data": {
      "text/html": [
       "<div>\n",
       "<style scoped>\n",
       "    .dataframe tbody tr th:only-of-type {\n",
       "        vertical-align: middle;\n",
       "    }\n",
       "\n",
       "    .dataframe tbody tr th {\n",
       "        vertical-align: top;\n",
       "    }\n",
       "\n",
       "    .dataframe thead th {\n",
       "        text-align: right;\n",
       "    }\n",
       "</style>\n",
       "<table border=\"1\" class=\"dataframe\">\n",
       "  <thead>\n",
       "    <tr style=\"text-align: right;\">\n",
       "      <th></th>\n",
       "      <th>V1</th>\n",
       "      <th>V2</th>\n",
       "      <th>V3</th>\n",
       "      <th>V4</th>\n",
       "      <th>V5</th>\n",
       "      <th>V6</th>\n",
       "    </tr>\n",
       "  </thead>\n",
       "  <tbody>\n",
       "    <tr>\n",
       "      <th>0</th>\n",
       "      <td>10.03</td>\n",
       "      <td>s</td>\n",
       "      <td>9.35</td>\n",
       "      <td>s</td>\n",
       "      <td>9.91</td>\n",
       "      <td>11.23</td>\n",
       "    </tr>\n",
       "    <tr>\n",
       "      <th>1</th>\n",
       "      <td>12.45</td>\n",
       "      <td>x</td>\n",
       "      <td>11.61</td>\n",
       "      <td>x</td>\n",
       "      <td>10.07</td>\n",
       "      <td>6.41</td>\n",
       "    </tr>\n",
       "    <tr>\n",
       "      <th>2</th>\n",
       "      <td>9.97</td>\n",
       "      <td>a</td>\n",
       "      <td>7.02</td>\n",
       "      <td>a</td>\n",
       "      <td>8.85</td>\n",
       "      <td>11.38</td>\n",
       "    </tr>\n",
       "    <tr>\n",
       "      <th>3</th>\n",
       "      <td>10.53</td>\n",
       "      <td>f</td>\n",
       "      <td>12.24</td>\n",
       "      <td>f</td>\n",
       "      <td>7.22</td>\n",
       "      <td>8.71</td>\n",
       "    </tr>\n",
       "    <tr>\n",
       "      <th>4</th>\n",
       "      <td>6.59</td>\n",
       "      <td>b</td>\n",
       "      <td>7.72</td>\n",
       "      <td>b</td>\n",
       "      <td>14.31</td>\n",
       "      <td>10.08</td>\n",
       "    </tr>\n",
       "  </tbody>\n",
       "</table>\n",
       "</div>"
      ],
      "text/plain": [
       "      V1 V2     V3 V4     V5     V6\n",
       "0  10.03  s   9.35  s   9.91  11.23\n",
       "1  12.45  x  11.61  x  10.07   6.41\n",
       "2   9.97  a   7.02  a   8.85  11.38\n",
       "3  10.53  f  12.24  f   7.22   8.71\n",
       "4   6.59  b   7.72  b  14.31  10.08"
      ]
     },
     "execution_count": 20,
     "metadata": {},
     "output_type": "execute_result"
    }
   ],
   "source": [
    "df_gauss_test = pd.read_csv(\"https://stepic.org/media/attachments/course/524/test.csv\")\n",
    "print(gauss_test(df_gauss_test))\n",
    "df_gauss_test.head()"
   ]
  },
  {
   "cell_type": "markdown",
   "id": "73637621",
   "metadata": {},
   "source": [
    "## Smart ANOVA"
   ]
  },
  {
   "cell_type": "code",
   "execution_count": 17,
   "id": "4e27ac80",
   "metadata": {},
   "outputs": [],
   "source": [
    "from scipy.stats import kruskal\n",
    "from scipy.stats import bartlett\n",
    "from scipy.stats import f_oneway\n",
    "from scipy.stats import levene # optional, use on significantly non-normal distributions\n"
   ]
  },
  {
   "cell_type": "code",
   "execution_count": 15,
   "id": "2833c679",
   "metadata": {},
   "outputs": [],
   "source": [
    "def smart_anova(df: pd.DataFrame):\n",
    "    res = []\n",
    "    cat_df = [df[df['y'] == cat] for cat in df['y'].unique()]\n",
    "    # Gauss distribution test\n",
    "    gauss_p_lst = [gauss_test(df) for df in cat_df]\n",
    "    # Bartlett dispersion test\n",
    "    bartlett_p = bartlett(cat_df[0]['x'], cat_df[1]['x'], cat_df[2]['x'])\n",
    "    normal = True\n",
    "    for gauss_p in gauss_p_lst:\n",
    "            for p in gauss_p:\n",
    "                if p < 0.05:\n",
    "                    normal = False\n",
    "    if (bartlett_p.pvalue > 0.05) & normal:\n",
    "        return pd.Series(data=f_oneway(cat_df[0]['x'], cat_df[1]['x'], cat_df[2]['x']).pvalue, index=[\"ANOVA\"])\n",
    "    else:\n",
    "        return pd.Series(data=kruskal(cat_df[0]['x'], cat_df[1]['x'], cat_df[2]['x']).pvalue, index=[\"KW\"])\n",
    "    "
   ]
  },
  {
   "cell_type": "code",
   "execution_count": 22,
   "id": "c1ed4725",
   "metadata": {
    "scrolled": true
   },
   "outputs": [
    {
     "name": "stdout",
     "output_type": "stream",
     "text": [
      "ANOVA    0.265298\n",
      "dtype: float64\n"
     ]
    }
   ],
   "source": [
    "df_anova = pd.read_csv(\"https://stepic.org/media/attachments/course/524/s_anova_test.csv\")\n",
    "print(smart_anova(df_anova))"
   ]
  },
  {
   "cell_type": "markdown",
   "id": "9a1f7316",
   "metadata": {},
   "source": [
    "### normality_by"
   ]
  },
  {
   "cell_type": "code",
   "execution_count": 409,
   "id": "78a34056",
   "metadata": {},
   "outputs": [],
   "source": [
    "def normality_by(df):\n",
    "    return df.groupby(['y', 'z'])['x'].apply(lambda x: shapiro(x).pvalue)"
   ]
  },
  {
   "cell_type": "code",
   "execution_count": 411,
   "id": "b6b3f044",
   "metadata": {
    "scrolled": true
   },
   "outputs": [
    {
     "name": "stdout",
     "output_type": "stream",
     "text": [
      "y  z\n",
      "0  2    0.219766\n",
      "   3    0.623818\n",
      "1  2    0.196036\n",
      "   3    0.047823\n",
      "Name: x, dtype: float64\n"
     ]
    }
   ],
   "source": [
    "df_normality_by = pd.read_csv(\"https://stepic.org/media/attachments/course/524/test_for_norm.csv\")\n",
    "print(normality_by(df_normality_by))\n"
   ]
  },
  {
   "cell_type": "code",
   "execution_count": 413,
   "id": "1de88558",
   "metadata": {},
   "outputs": [],
   "source": [
    "from sklearn import datasets"
   ]
  },
  {
   "cell_type": "code",
   "execution_count": 414,
   "id": "77295777",
   "metadata": {},
   "outputs": [],
   "source": [
    "iris = datasets.load_iris()\n",
    "iris_df = pd.DataFrame(iris[\"data\"], columns=iris[\"feature_names\"])"
   ]
  },
  {
   "cell_type": "code",
   "execution_count": 2,
   "id": "8d68af5c",
   "metadata": {},
   "outputs": [
    {
     "data": {
      "image/png": "[encoded data removed]",
      "text/plain": [
       "<Figure size 432x288 with 1 Axes>"
      ]
     },
     "metadata": {
      "image/png": {
       "height": 281,
       "width": 391
      }
     },
     "output_type": "display_data"
    }
   ],
   "source": [
    "from sklearn import datasets\n",
    "import matplotlib.pyplot as plt\n",
    "import seaborn as sns\n",
    "\n",
    "iris = datasets.load_iris()\n",
    "X = iris.data[:, :1]  # sepal length\n",
    "y = iris.target\n",
    "labels = [\"Setosa\", \"Versicolour\", \"Virginica\"]\n",
    "\n",
    "for i in range(3):\n",
    "    sns.distplot(X[y==i], hist = False, kde = True,\n",
    "     kde_kws = {'shade': True, 'linewidth': 3},\n",
    "     label=labels[i])\n",
    "plt.xlabel(\"Sepal length\")\n",
    "plt.ylabel(\"Density\")\n",
    "plt.title(\"Distributions of sepal length\")\n",
    "plt.legend(title=\"Species\");"
   ]
  },
  {
   "cell_type": "markdown",
   "id": "6909eae3",
   "metadata": {},
   "source": [
    "## Clustering and PCA"
   ]
  },
  {
   "cell_type": "code",
   "execution_count": 140,
   "id": "4cb1d0c3",
   "metadata": {},
   "outputs": [],
   "source": [
    "from sklearn.cluster import AgglomerativeClustering"
   ]
  },
  {
   "cell_type": "code",
   "execution_count": 9,
   "id": "1bbc3195",
   "metadata": {},
   "outputs": [],
   "source": [
    "def smart_hclust(df: pd.DataFrame, n_clusters:int):\n",
    "    cluster = AgglomerativeClustering(n_clusters=n_clusters, affinity='euclidean', linkage='ward')\n",
    "    df[\"cluster\"] = cluster.fit_predict(df).astype(np.object)"
   ]
  },
  {
   "cell_type": "code",
   "execution_count": 10,
   "id": "48da2869",
   "metadata": {},
   "outputs": [
    {
     "data": {
      "text/html": [
       "<div>\n",
       "<style scoped>\n",
       "    .dataframe tbody tr th:only-of-type {\n",
       "        vertical-align: middle;\n",
       "    }\n",
       "\n",
       "    .dataframe tbody tr th {\n",
       "        vertical-align: top;\n",
       "    }\n",
       "\n",
       "    .dataframe thead th {\n",
       "        text-align: right;\n",
       "    }\n",
       "</style>\n",
       "<table border=\"1\" class=\"dataframe\">\n",
       "  <thead>\n",
       "    <tr style=\"text-align: right;\">\n",
       "      <th></th>\n",
       "      <th>X1</th>\n",
       "      <th>X2</th>\n",
       "      <th>X3</th>\n",
       "      <th>X4</th>\n",
       "      <th>X5</th>\n",
       "      <th>cluster</th>\n",
       "    </tr>\n",
       "  </thead>\n",
       "  <tbody>\n",
       "    <tr>\n",
       "      <th>0</th>\n",
       "      <td>11</td>\n",
       "      <td>7</td>\n",
       "      <td>10</td>\n",
       "      <td>10</td>\n",
       "      <td>8</td>\n",
       "      <td>0</td>\n",
       "    </tr>\n",
       "    <tr>\n",
       "      <th>1</th>\n",
       "      <td>9</td>\n",
       "      <td>10</td>\n",
       "      <td>10</td>\n",
       "      <td>8</td>\n",
       "      <td>6</td>\n",
       "      <td>0</td>\n",
       "    </tr>\n",
       "    <tr>\n",
       "      <th>2</th>\n",
       "      <td>9</td>\n",
       "      <td>2</td>\n",
       "      <td>12</td>\n",
       "      <td>14</td>\n",
       "      <td>11</td>\n",
       "      <td>0</td>\n",
       "    </tr>\n",
       "    <tr>\n",
       "      <th>3</th>\n",
       "      <td>9</td>\n",
       "      <td>11</td>\n",
       "      <td>8</td>\n",
       "      <td>10</td>\n",
       "      <td>3</td>\n",
       "      <td>0</td>\n",
       "    </tr>\n",
       "    <tr>\n",
       "      <th>4</th>\n",
       "      <td>7</td>\n",
       "      <td>9</td>\n",
       "      <td>10</td>\n",
       "      <td>11</td>\n",
       "      <td>14</td>\n",
       "      <td>0</td>\n",
       "    </tr>\n",
       "    <tr>\n",
       "      <th>5</th>\n",
       "      <td>9</td>\n",
       "      <td>11</td>\n",
       "      <td>9</td>\n",
       "      <td>6</td>\n",
       "      <td>9</td>\n",
       "      <td>0</td>\n",
       "    </tr>\n",
       "    <tr>\n",
       "      <th>6</th>\n",
       "      <td>16</td>\n",
       "      <td>20</td>\n",
       "      <td>22</td>\n",
       "      <td>19</td>\n",
       "      <td>16</td>\n",
       "      <td>1</td>\n",
       "    </tr>\n",
       "    <tr>\n",
       "      <th>7</th>\n",
       "      <td>23</td>\n",
       "      <td>18</td>\n",
       "      <td>21</td>\n",
       "      <td>24</td>\n",
       "      <td>16</td>\n",
       "      <td>1</td>\n",
       "    </tr>\n",
       "    <tr>\n",
       "      <th>8</th>\n",
       "      <td>15</td>\n",
       "      <td>21</td>\n",
       "      <td>14</td>\n",
       "      <td>21</td>\n",
       "      <td>21</td>\n",
       "      <td>2</td>\n",
       "    </tr>\n",
       "    <tr>\n",
       "      <th>9</th>\n",
       "      <td>19</td>\n",
       "      <td>20</td>\n",
       "      <td>15</td>\n",
       "      <td>17</td>\n",
       "      <td>17</td>\n",
       "      <td>2</td>\n",
       "    </tr>\n",
       "    <tr>\n",
       "      <th>10</th>\n",
       "      <td>20</td>\n",
       "      <td>24</td>\n",
       "      <td>21</td>\n",
       "      <td>20</td>\n",
       "      <td>19</td>\n",
       "      <td>1</td>\n",
       "    </tr>\n",
       "    <tr>\n",
       "      <th>11</th>\n",
       "      <td>22</td>\n",
       "      <td>19</td>\n",
       "      <td>27</td>\n",
       "      <td>22</td>\n",
       "      <td>19</td>\n",
       "      <td>1</td>\n",
       "    </tr>\n",
       "  </tbody>\n",
       "</table>\n",
       "</div>"
      ],
      "text/plain": [
       "    X1  X2  X3  X4  X5 cluster\n",
       "0   11   7  10  10   8       0\n",
       "1    9  10  10   8   6       0\n",
       "2    9   2  12  14  11       0\n",
       "3    9  11   8  10   3       0\n",
       "4    7   9  10  11  14       0\n",
       "5    9  11   9   6   9       0\n",
       "6   16  20  22  19  16       1\n",
       "7   23  18  21  24  16       1\n",
       "8   15  21  14  21  21       2\n",
       "9   19  20  15  17  17       2\n",
       "10  20  24  21  20  19       1\n",
       "11  22  19  27  22  19       1"
      ]
     },
     "execution_count": 10,
     "metadata": {},
     "output_type": "execute_result"
    }
   ],
   "source": [
    "df_cluster = pd.read_csv(\"https://stepic.org/media/attachments/course/524/test_data_hclust.csv\")\n",
    "smart_hclust(df_cluster, 3)\n",
    "df_cluster"
   ]
  },
  {
   "cell_type": "code",
   "execution_count": 59,
   "id": "85df341f",
   "metadata": {},
   "outputs": [],
   "source": [
    "def get_difference(df: pd.DataFrame, n_clusters:int):\n",
    "    res = []\n",
    "    smart_hclust(df, n_clusters)\n",
    "    clusters = [df[df['cluster'] == cat] for cat in df['cluster'].unique()]\n",
    "    anova = f_oneway(clusters[0].drop(\"cluster\", axis=1), clusters[1].drop(\"cluster\", axis=1)).pvalue < 0.05\n",
    "    res.append(anova)\n",
    "    return df.drop(\"cluster\", axis=1).columns[anova] # Filter columns based on ANOVA results"
   ]
  },
  {
   "cell_type": "code",
   "execution_count": 61,
   "id": "510e6f45",
   "metadata": {
    "scrolled": true
   },
   "outputs": [
    {
     "name": "stdout",
     "output_type": "stream",
     "text": [
      "Index(['V2'], dtype='object')\n",
      "Index(['V1', 'V2'], dtype='object')\n"
     ]
    }
   ],
   "source": [
    "df_cluster_gd = pd.read_csv(\"https://stepic.org/media/attachments/course/524/cluster_1.csv\")\n",
    "print(get_difference(df_cluster_gd, 2))\n",
    "df_cluster_gd = pd.read_csv(\"https://stepic.org/media/attachments/course/524/cluster_2.csv\")\n",
    "print(get_difference(df_cluster_gd, 2))"
   ]
  },
  {
   "cell_type": "code",
   "execution_count": 62,
   "id": "421a67ec",
   "metadata": {},
   "outputs": [],
   "source": [
    "from sklearn.decomposition import PCA"
   ]
  },
  {
   "cell_type": "code",
   "execution_count": 87,
   "id": "137440f0",
   "metadata": {},
   "outputs": [],
   "source": [
    "def get_pc(df: pd.DataFrame):\n",
    "    pca = PCA(n_components=2)\n",
    "    pca.fit(df)\n",
    "    for idx, pc in enumerate(pca.components_):\n",
    "        df[\"PC\"+str(idx+1)] = pca.components_[idx]\n",
    "    return df"
   ]
  },
  {
   "cell_type": "code",
   "execution_count": 88,
   "id": "e412c06b",
   "metadata": {},
   "outputs": [
    {
     "name": "stdout",
     "output_type": "stream",
     "text": [
      "   V1  V2  V3  V4  V5       PC1       PC2\n",
      "0  13  15  12  13  12  0.027071  0.504477\n",
      "1  16  11   8  12   6 -0.127574 -0.764549\n",
      "2  15   7  10  12  13 -0.513338 -0.229197\n",
      "3  12  11   6   6   4 -0.396689  0.293058\n",
      "4  11  13  13  10  12 -0.749742  0.150179\n"
     ]
    }
   ],
   "source": [
    "df_pca = pd.read_csv(\"https://stepic.org/media/attachments/course/524/pca_test.csv\")\n",
    "print(get_pc(df_pca))"
   ]
  },
  {
   "cell_type": "code",
   "execution_count": 138,
   "id": "d414a1b9",
   "metadata": {},
   "outputs": [],
   "source": [
    "def get_pca2(df: pd.DataFrame, threshold:float):\n",
    "    pca = PCA(n_components=df.shape[1])\n",
    "    fit = pca.fit_transform(df)\n",
    "    n_components = sum(np.cumsum(pca.explained_variance_ratio_) < threshold) + 1\n",
    "    return pd.concat([df, pd.DataFrame(fit[:, :n_components])], axis=1)\n"
   ]
  },
  {
   "cell_type": "code",
   "execution_count": 139,
   "id": "aa09c58d",
   "metadata": {
    "scrolled": true
   },
   "outputs": [
    {
     "data": {
      "text/html": [
       "<div>\n",
       "<style scoped>\n",
       "    .dataframe tbody tr th:only-of-type {\n",
       "        vertical-align: middle;\n",
       "    }\n",
       "\n",
       "    .dataframe tbody tr th {\n",
       "        vertical-align: top;\n",
       "    }\n",
       "\n",
       "    .dataframe thead th {\n",
       "        text-align: right;\n",
       "    }\n",
       "</style>\n",
       "<table border=\"1\" class=\"dataframe\">\n",
       "  <thead>\n",
       "    <tr style=\"text-align: right;\">\n",
       "      <th></th>\n",
       "      <th>Fertility</th>\n",
       "      <th>Agriculture</th>\n",
       "      <th>Examination</th>\n",
       "      <th>Education</th>\n",
       "      <th>Catholic</th>\n",
       "      <th>Infant.Mortality</th>\n",
       "      <th>0</th>\n",
       "      <th>1</th>\n",
       "    </tr>\n",
       "  </thead>\n",
       "  <tbody>\n",
       "    <tr>\n",
       "      <th>0</th>\n",
       "      <td>80.2</td>\n",
       "      <td>17.0</td>\n",
       "      <td>15</td>\n",
       "      <td>12</td>\n",
       "      <td>9.96</td>\n",
       "      <td>22.2</td>\n",
       "      <td>-37.032433</td>\n",
       "      <td>17.434879</td>\n",
       "    </tr>\n",
       "    <tr>\n",
       "      <th>1</th>\n",
       "      <td>83.1</td>\n",
       "      <td>45.1</td>\n",
       "      <td>6</td>\n",
       "      <td>9</td>\n",
       "      <td>84.84</td>\n",
       "      <td>22.2</td>\n",
       "      <td>42.797334</td>\n",
       "      <td>14.687668</td>\n",
       "    </tr>\n",
       "    <tr>\n",
       "      <th>2</th>\n",
       "      <td>92.5</td>\n",
       "      <td>39.7</td>\n",
       "      <td>5</td>\n",
       "      <td>5</td>\n",
       "      <td>93.40</td>\n",
       "      <td>20.2</td>\n",
       "      <td>51.081639</td>\n",
       "      <td>19.274036</td>\n",
       "    </tr>\n",
       "    <tr>\n",
       "      <th>3</th>\n",
       "      <td>85.8</td>\n",
       "      <td>36.5</td>\n",
       "      <td>12</td>\n",
       "      <td>7</td>\n",
       "      <td>33.77</td>\n",
       "      <td>20.3</td>\n",
       "      <td>-7.716707</td>\n",
       "      <td>5.458722</td>\n",
       "    </tr>\n",
       "    <tr>\n",
       "      <th>4</th>\n",
       "      <td>76.9</td>\n",
       "      <td>43.5</td>\n",
       "      <td>17</td>\n",
       "      <td>15</td>\n",
       "      <td>5.16</td>\n",
       "      <td>20.6</td>\n",
       "      <td>-35.032658</td>\n",
       "      <td>-5.126097</td>\n",
       "    </tr>\n",
       "  </tbody>\n",
       "</table>\n",
       "</div>"
      ],
      "text/plain": [
       "   Fertility  Agriculture  Examination  Education  Catholic  Infant.Mortality  \\\n",
       "0       80.2         17.0           15         12      9.96              22.2   \n",
       "1       83.1         45.1            6          9     84.84              22.2   \n",
       "2       92.5         39.7            5          5     93.40              20.2   \n",
       "3       85.8         36.5           12          7     33.77              20.3   \n",
       "4       76.9         43.5           17         15      5.16              20.6   \n",
       "\n",
       "           0          1  \n",
       "0 -37.032433  17.434879  \n",
       "1  42.797334  14.687668  \n",
       "2  51.081639  19.274036  \n",
       "3  -7.716707   5.458722  \n",
       "4 -35.032658  -5.126097  "
      ]
     },
     "execution_count": 139,
     "metadata": {},
     "output_type": "execute_result"
    }
   ],
   "source": [
    "df_pca2 = pd.read_csv(\"data/swiss.csv\")\n",
    "get_pca2(df_pca2.drop(\"Location\", axis=1), 0.90).head()\n"
   ]
  },
  {
   "cell_type": "markdown",
   "id": "5daac640",
   "metadata": {},
   "source": [
    "## Multicollinearity check"
   ]
  },
  {
   "cell_type": "code",
   "execution_count": null,
   "id": "6be5bff7",
   "metadata": {},
   "outputs": [],
   "source": [
    "def is_multicol(df: pd.DataFrame):\n",
    "    \n",
    "    s\n",
    "    return "
   ]
  },
  {
   "cell_type": "code",
   "execution_count": null,
   "id": "a0c6fa03",
   "metadata": {},
   "outputs": [],
   "source": []
  }
 ],
 "metadata": {
  "kernelspec": {
   "display_name": "Python 3",
   "language": "python",
   "name": "python3"
  },
  "language_info": {
   "codemirror_mode": {
    "name": "ipython",
    "version": 3
   },
   "file_extension": ".py",
   "mimetype": "text/x-python",
   "name": "python",
   "nbconvert_exporter": "python",
   "pygments_lexer": "ipython3",
   "version": "3.8.5"
  }
 },
 "nbformat": 4,
 "nbformat_minor": 5
}
