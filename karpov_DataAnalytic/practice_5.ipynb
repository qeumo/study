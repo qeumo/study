{
 "cells": [
  {
   "cell_type": "code",
   "execution_count": 2,
   "id": "38b8624b",
   "metadata": {},
   "outputs": [],
   "source": [
    "import pandas as pd\n",
    "import numpy as np\n",
    "from scipy.stats import fisher_exact, chisquare\n",
    "import seaborn as sns\n",
    "sns.set()\n",
    "import matplotlib.pyplot as plt\n",
    "import matplotlib.dates as mdates\n",
    "import warnings\n",
    "warnings.filterwarnings('ignore')\n",
    "# sharper plots\n",
    "%config InlineBackend.figure_format = 'retina'\n",
    "\n",
    "import os, re"
   ]
  },
  {
   "cell_type": "code",
   "execution_count": 13,
   "id": "279882d4",
   "metadata": {
    "scrolled": true
   },
   "outputs": [],
   "source": [
    "df = pd.read_csv(\"E:\\\\.ML\\\\[Анатолий Карпов] [Stepic] Data Analytic Часть 1\\\\5\\\\Задания\\\\data.csv.zip\", encoding='ISO-8859-1')"
   ]
  },
  {
   "cell_type": "code",
   "execution_count": 16,
   "id": "fced191b",
   "metadata": {
    "scrolled": true
   },
   "outputs": [
    {
     "data": {
      "text/html": [
       "<div>\n",
       "<style scoped>\n",
       "    .dataframe tbody tr th:only-of-type {\n",
       "        vertical-align: middle;\n",
       "    }\n",
       "\n",
       "    .dataframe tbody tr th {\n",
       "        vertical-align: top;\n",
       "    }\n",
       "\n",
       "    .dataframe thead th {\n",
       "        text-align: right;\n",
       "    }\n",
       "</style>\n",
       "<table border=\"1\" class=\"dataframe\">\n",
       "  <thead>\n",
       "    <tr style=\"text-align: right;\">\n",
       "      <th></th>\n",
       "      <th>InvoiceNo</th>\n",
       "      <th>StockCode</th>\n",
       "      <th>Description</th>\n",
       "      <th>Quantity</th>\n",
       "      <th>InvoiceDate</th>\n",
       "      <th>UnitPrice</th>\n",
       "      <th>CustomerID</th>\n",
       "      <th>Country</th>\n",
       "    </tr>\n",
       "  </thead>\n",
       "  <tbody>\n",
       "    <tr>\n",
       "      <th>0</th>\n",
       "      <td>536365</td>\n",
       "      <td>85123A</td>\n",
       "      <td>WHITE HANGING HEART T-LIGHT HOLDER</td>\n",
       "      <td>6</td>\n",
       "      <td>12/1/2010 8:26</td>\n",
       "      <td>2.55</td>\n",
       "      <td>17850.0</td>\n",
       "      <td>United Kingdom</td>\n",
       "    </tr>\n",
       "    <tr>\n",
       "      <th>1</th>\n",
       "      <td>536365</td>\n",
       "      <td>71053</td>\n",
       "      <td>WHITE METAL LANTERN</td>\n",
       "      <td>6</td>\n",
       "      <td>12/1/2010 8:26</td>\n",
       "      <td>3.39</td>\n",
       "      <td>17850.0</td>\n",
       "      <td>United Kingdom</td>\n",
       "    </tr>\n",
       "    <tr>\n",
       "      <th>2</th>\n",
       "      <td>536365</td>\n",
       "      <td>84406B</td>\n",
       "      <td>CREAM CUPID HEARTS COAT HANGER</td>\n",
       "      <td>8</td>\n",
       "      <td>12/1/2010 8:26</td>\n",
       "      <td>2.75</td>\n",
       "      <td>17850.0</td>\n",
       "      <td>United Kingdom</td>\n",
       "    </tr>\n",
       "    <tr>\n",
       "      <th>3</th>\n",
       "      <td>536365</td>\n",
       "      <td>84029G</td>\n",
       "      <td>KNITTED UNION FLAG HOT WATER BOTTLE</td>\n",
       "      <td>6</td>\n",
       "      <td>12/1/2010 8:26</td>\n",
       "      <td>3.39</td>\n",
       "      <td>17850.0</td>\n",
       "      <td>United Kingdom</td>\n",
       "    </tr>\n",
       "    <tr>\n",
       "      <th>4</th>\n",
       "      <td>536365</td>\n",
       "      <td>84029E</td>\n",
       "      <td>RED WOOLLY HOTTIE WHITE HEART.</td>\n",
       "      <td>6</td>\n",
       "      <td>12/1/2010 8:26</td>\n",
       "      <td>3.39</td>\n",
       "      <td>17850.0</td>\n",
       "      <td>United Kingdom</td>\n",
       "    </tr>\n",
       "  </tbody>\n",
       "</table>\n",
       "</div>"
      ],
      "text/plain": [
       "  InvoiceNo StockCode                          Description  Quantity  \\\n",
       "0    536365    85123A   WHITE HANGING HEART T-LIGHT HOLDER         6   \n",
       "1    536365     71053                  WHITE METAL LANTERN         6   \n",
       "2    536365    84406B       CREAM CUPID HEARTS COAT HANGER         8   \n",
       "3    536365    84029G  KNITTED UNION FLAG HOT WATER BOTTLE         6   \n",
       "4    536365    84029E       RED WOOLLY HOTTIE WHITE HEART.         6   \n",
       "\n",
       "      InvoiceDate  UnitPrice  CustomerID         Country  \n",
       "0  12/1/2010 8:26       2.55     17850.0  United Kingdom  \n",
       "1  12/1/2010 8:26       3.39     17850.0  United Kingdom  \n",
       "2  12/1/2010 8:26       2.75     17850.0  United Kingdom  \n",
       "3  12/1/2010 8:26       3.39     17850.0  United Kingdom  \n",
       "4  12/1/2010 8:26       3.39     17850.0  United Kingdom  "
      ]
     },
     "execution_count": 16,
     "metadata": {},
     "output_type": "execute_result"
    }
   ],
   "source": [
    "df.head()"
   ]
  },
  {
   "cell_type": "code",
   "execution_count": 17,
   "id": "5e6e4d66",
   "metadata": {},
   "outputs": [],
   "source": [
    "df.drop_duplicates(inplace=True)"
   ]
  },
  {
   "cell_type": "code",
   "execution_count": 19,
   "id": "ec6b3a42",
   "metadata": {},
   "outputs": [
    {
     "data": {
      "text/plain": [
       "(9251, 8)"
      ]
     },
     "execution_count": 19,
     "metadata": {},
     "output_type": "execute_result"
    }
   ],
   "source": [
    "df[df.InvoiceNo.str.startswith(\"C\")].shape"
   ]
  },
  {
   "cell_type": "code",
   "execution_count": 21,
   "id": "e7787483",
   "metadata": {},
   "outputs": [],
   "source": [
    "retail = df[df.Quantity > 0]"
   ]
  },
  {
   "cell_type": "code",
   "execution_count": 38,
   "id": "b09ff07f",
   "metadata": {},
   "outputs": [
    {
     "data": {
      "text/plain": [
       "0     12471.0\n",
       "1     12472.0\n",
       "2     12473.0\n",
       "3     12474.0\n",
       "4     12476.0\n",
       "5     12477.0\n",
       "6     12481.0\n",
       "7     12517.0\n",
       "8     12569.0\n",
       "9     12621.0\n",
       "10    12626.0\n",
       "11    12627.0\n",
       "12    12662.0\n",
       "13    12668.0\n",
       "14    12705.0\n",
       "15    12708.0\n",
       "16    12709.0\n",
       "17    12720.0\n",
       "18    13815.0\n",
       "Name: CustomerID, dtype: float64"
      ]
     },
     "execution_count": 38,
     "metadata": {},
     "output_type": "execute_result"
    }
   ],
   "source": [
    "cust_bought_num = retail[retail.Country == \"Germany\"].groupby('CustomerID', as_index=False).InvoiceNo.count()\n",
    "germany_top = cust_bought_num.query('InvoiceNo > ' + str(cust_bought_num['InvoiceNo'].quantile(0.8))).CustomerID.reset_index().CustomerID\n",
    "germany_top"
   ]
  },
  {
   "cell_type": "code",
   "execution_count": 39,
   "id": "0ba0a4cd",
   "metadata": {},
   "outputs": [
    {
     "data": {
      "text/html": [
       "<div>\n",
       "<style scoped>\n",
       "    .dataframe tbody tr th:only-of-type {\n",
       "        vertical-align: middle;\n",
       "    }\n",
       "\n",
       "    .dataframe tbody tr th {\n",
       "        vertical-align: top;\n",
       "    }\n",
       "\n",
       "    .dataframe thead th {\n",
       "        text-align: right;\n",
       "    }\n",
       "</style>\n",
       "<table border=\"1\" class=\"dataframe\">\n",
       "  <thead>\n",
       "    <tr style=\"text-align: right;\">\n",
       "      <th></th>\n",
       "      <th>InvoiceNo</th>\n",
       "      <th>StockCode</th>\n",
       "      <th>Description</th>\n",
       "      <th>Quantity</th>\n",
       "      <th>InvoiceDate</th>\n",
       "      <th>UnitPrice</th>\n",
       "      <th>CustomerID</th>\n",
       "      <th>Country</th>\n",
       "    </tr>\n",
       "  </thead>\n",
       "  <tbody>\n",
       "    <tr>\n",
       "      <th>1109</th>\n",
       "      <td>536527</td>\n",
       "      <td>22809</td>\n",
       "      <td>SET OF 6 T-LIGHTS SANTA</td>\n",
       "      <td>6</td>\n",
       "      <td>12/1/2010 13:04</td>\n",
       "      <td>2.95</td>\n",
       "      <td>12662.0</td>\n",
       "      <td>Germany</td>\n",
       "    </tr>\n",
       "    <tr>\n",
       "      <th>1110</th>\n",
       "      <td>536527</td>\n",
       "      <td>84347</td>\n",
       "      <td>ROTATING SILVER ANGELS T-LIGHT HLDR</td>\n",
       "      <td>6</td>\n",
       "      <td>12/1/2010 13:04</td>\n",
       "      <td>2.55</td>\n",
       "      <td>12662.0</td>\n",
       "      <td>Germany</td>\n",
       "    </tr>\n",
       "    <tr>\n",
       "      <th>1111</th>\n",
       "      <td>536527</td>\n",
       "      <td>84945</td>\n",
       "      <td>MULTI COLOUR SILVER T-LIGHT HOLDER</td>\n",
       "      <td>12</td>\n",
       "      <td>12/1/2010 13:04</td>\n",
       "      <td>0.85</td>\n",
       "      <td>12662.0</td>\n",
       "      <td>Germany</td>\n",
       "    </tr>\n",
       "    <tr>\n",
       "      <th>1112</th>\n",
       "      <td>536527</td>\n",
       "      <td>22242</td>\n",
       "      <td>5 HOOK HANGER MAGIC TOADSTOOL</td>\n",
       "      <td>12</td>\n",
       "      <td>12/1/2010 13:04</td>\n",
       "      <td>1.65</td>\n",
       "      <td>12662.0</td>\n",
       "      <td>Germany</td>\n",
       "    </tr>\n",
       "    <tr>\n",
       "      <th>1113</th>\n",
       "      <td>536527</td>\n",
       "      <td>22244</td>\n",
       "      <td>3 HOOK HANGER MAGIC GARDEN</td>\n",
       "      <td>12</td>\n",
       "      <td>12/1/2010 13:04</td>\n",
       "      <td>1.95</td>\n",
       "      <td>12662.0</td>\n",
       "      <td>Germany</td>\n",
       "    </tr>\n",
       "    <tr>\n",
       "      <th>...</th>\n",
       "      <td>...</td>\n",
       "      <td>...</td>\n",
       "      <td>...</td>\n",
       "      <td>...</td>\n",
       "      <td>...</td>\n",
       "      <td>...</td>\n",
       "      <td>...</td>\n",
       "      <td>...</td>\n",
       "    </tr>\n",
       "    <tr>\n",
       "      <th>541726</th>\n",
       "      <td>581570</td>\n",
       "      <td>22139</td>\n",
       "      <td>RETROSPOT TEA SET CERAMIC 11 PC</td>\n",
       "      <td>3</td>\n",
       "      <td>12/9/2011 11:59</td>\n",
       "      <td>4.95</td>\n",
       "      <td>12662.0</td>\n",
       "      <td>Germany</td>\n",
       "    </tr>\n",
       "    <tr>\n",
       "      <th>541727</th>\n",
       "      <td>581570</td>\n",
       "      <td>23077</td>\n",
       "      <td>DOUGHNUT LIP GLOSS</td>\n",
       "      <td>20</td>\n",
       "      <td>12/9/2011 11:59</td>\n",
       "      <td>1.25</td>\n",
       "      <td>12662.0</td>\n",
       "      <td>Germany</td>\n",
       "    </tr>\n",
       "    <tr>\n",
       "      <th>541728</th>\n",
       "      <td>581570</td>\n",
       "      <td>20750</td>\n",
       "      <td>RED RETROSPOT MINI CASES</td>\n",
       "      <td>2</td>\n",
       "      <td>12/9/2011 11:59</td>\n",
       "      <td>7.95</td>\n",
       "      <td>12662.0</td>\n",
       "      <td>Germany</td>\n",
       "    </tr>\n",
       "    <tr>\n",
       "      <th>541729</th>\n",
       "      <td>581570</td>\n",
       "      <td>22505</td>\n",
       "      <td>MEMO BOARD COTTAGE DESIGN</td>\n",
       "      <td>4</td>\n",
       "      <td>12/9/2011 11:59</td>\n",
       "      <td>4.95</td>\n",
       "      <td>12662.0</td>\n",
       "      <td>Germany</td>\n",
       "    </tr>\n",
       "    <tr>\n",
       "      <th>541730</th>\n",
       "      <td>581570</td>\n",
       "      <td>POST</td>\n",
       "      <td>POSTAGE</td>\n",
       "      <td>1</td>\n",
       "      <td>12/9/2011 11:59</td>\n",
       "      <td>18.00</td>\n",
       "      <td>12662.0</td>\n",
       "      <td>Germany</td>\n",
       "    </tr>\n",
       "  </tbody>\n",
       "</table>\n",
       "<p>5213 rows × 8 columns</p>\n",
       "</div>"
      ],
      "text/plain": [
       "       InvoiceNo StockCode                          Description  Quantity  \\\n",
       "1109      536527     22809              SET OF 6 T-LIGHTS SANTA         6   \n",
       "1110      536527     84347  ROTATING SILVER ANGELS T-LIGHT HLDR         6   \n",
       "1111      536527     84945   MULTI COLOUR SILVER T-LIGHT HOLDER        12   \n",
       "1112      536527     22242        5 HOOK HANGER MAGIC TOADSTOOL        12   \n",
       "1113      536527     22244           3 HOOK HANGER MAGIC GARDEN        12   \n",
       "...          ...       ...                                  ...       ...   \n",
       "541726    581570     22139     RETROSPOT TEA SET CERAMIC 11 PC          3   \n",
       "541727    581570     23077                  DOUGHNUT LIP GLOSS         20   \n",
       "541728    581570     20750             RED RETROSPOT MINI CASES         2   \n",
       "541729    581570     22505            MEMO BOARD COTTAGE DESIGN         4   \n",
       "541730    581570      POST                              POSTAGE         1   \n",
       "\n",
       "            InvoiceDate  UnitPrice  CustomerID  Country  \n",
       "1109    12/1/2010 13:04       2.95     12662.0  Germany  \n",
       "1110    12/1/2010 13:04       2.55     12662.0  Germany  \n",
       "1111    12/1/2010 13:04       0.85     12662.0  Germany  \n",
       "1112    12/1/2010 13:04       1.65     12662.0  Germany  \n",
       "1113    12/1/2010 13:04       1.95     12662.0  Germany  \n",
       "...                 ...        ...         ...      ...  \n",
       "541726  12/9/2011 11:59       4.95     12662.0  Germany  \n",
       "541727  12/9/2011 11:59       1.25     12662.0  Germany  \n",
       "541728  12/9/2011 11:59       7.95     12662.0  Germany  \n",
       "541729  12/9/2011 11:59       4.95     12662.0  Germany  \n",
       "541730  12/9/2011 11:59      18.00     12662.0  Germany  \n",
       "\n",
       "[5213 rows x 8 columns]"
      ]
     },
     "execution_count": 39,
     "metadata": {},
     "output_type": "execute_result"
    }
   ],
   "source": [
    "top_retail_germany = retail[retail.CustomerID.isin(germany_top)]\n",
    "top_retail_germany"
   ]
  },
  {
   "cell_type": "code",
   "execution_count": 79,
   "id": "b272ccb8",
   "metadata": {},
   "outputs": [
    {
     "data": {
      "text/html": [
       "<div>\n",
       "<style scoped>\n",
       "    .dataframe tbody tr th:only-of-type {\n",
       "        vertical-align: middle;\n",
       "    }\n",
       "\n",
       "    .dataframe tbody tr th {\n",
       "        vertical-align: top;\n",
       "    }\n",
       "\n",
       "    .dataframe thead th {\n",
       "        text-align: right;\n",
       "    }\n",
       "</style>\n",
       "<table border=\"1\" class=\"dataframe\">\n",
       "  <thead>\n",
       "    <tr style=\"text-align: right;\">\n",
       "      <th></th>\n",
       "      <th>StockCode</th>\n",
       "      <th>Description</th>\n",
       "    </tr>\n",
       "  </thead>\n",
       "  <tbody>\n",
       "    <tr>\n",
       "      <th>0</th>\n",
       "      <td>22326</td>\n",
       "      <td>70</td>\n",
       "    </tr>\n",
       "    <tr>\n",
       "      <th>1</th>\n",
       "      <td>22328</td>\n",
       "      <td>46</td>\n",
       "    </tr>\n",
       "    <tr>\n",
       "      <th>2</th>\n",
       "      <td>22423</td>\n",
       "      <td>42</td>\n",
       "    </tr>\n",
       "    <tr>\n",
       "      <th>3</th>\n",
       "      <td>20719</td>\n",
       "      <td>37</td>\n",
       "    </tr>\n",
       "    <tr>\n",
       "      <th>4</th>\n",
       "      <td>22554</td>\n",
       "      <td>37</td>\n",
       "    </tr>\n",
       "    <tr>\n",
       "      <th>...</th>\n",
       "      <td>...</td>\n",
       "      <td>...</td>\n",
       "    </tr>\n",
       "    <tr>\n",
       "      <th>1287</th>\n",
       "      <td>22189</td>\n",
       "      <td>1</td>\n",
       "    </tr>\n",
       "    <tr>\n",
       "      <th>1288</th>\n",
       "      <td>22190</td>\n",
       "      <td>1</td>\n",
       "    </tr>\n",
       "    <tr>\n",
       "      <th>1289</th>\n",
       "      <td>22201</td>\n",
       "      <td>1</td>\n",
       "    </tr>\n",
       "    <tr>\n",
       "      <th>1290</th>\n",
       "      <td>22202</td>\n",
       "      <td>1</td>\n",
       "    </tr>\n",
       "    <tr>\n",
       "      <th>1291</th>\n",
       "      <td>10125</td>\n",
       "      <td>1</td>\n",
       "    </tr>\n",
       "  </tbody>\n",
       "</table>\n",
       "<p>1292 rows × 2 columns</p>\n",
       "</div>"
      ],
      "text/plain": [
       "     StockCode  Description\n",
       "0        22326           70\n",
       "1        22328           46\n",
       "2        22423           42\n",
       "3        20719           37\n",
       "4        22554           37\n",
       "...        ...          ...\n",
       "1287     22189            1\n",
       "1288     22190            1\n",
       "1289     22201            1\n",
       "1290     22202            1\n",
       "1291     10125            1\n",
       "\n",
       "[1292 rows x 2 columns]"
      ]
     },
     "execution_count": 79,
     "metadata": {},
     "output_type": "execute_result"
    }
   ],
   "source": [
    "top_retail_germany.query('StockCode != \"POST\"').groupby('StockCode', as_index=False).Description.count() \\\n",
    "                .sort_values(by=\"Description\", ascending=False).reset_index().drop(columns='index')\n"
   ]
  },
  {
   "cell_type": "code",
   "execution_count": 78,
   "id": "0a6c0391",
   "metadata": {},
   "outputs": [
    {
     "data": {
      "text/plain": [
       "POST     180\n",
       "22326     70\n",
       "22328     46\n",
       "22423     42\n",
       "20719     37\n",
       "        ... \n",
       "22040      1\n",
       "23107      1\n",
       "22430      1\n",
       "72812      1\n",
       "22608      1\n",
       "Name: StockCode, Length: 1293, dtype: int64"
      ]
     },
     "execution_count": 78,
     "metadata": {},
     "output_type": "execute_result"
    }
   ],
   "source": [
    "top_retail_germany.StockCode.value_counts()"
   ]
  },
  {
   "cell_type": "code",
   "execution_count": 90,
   "id": "72199330",
   "metadata": {
    "scrolled": true
   },
   "outputs": [
    {
     "data": {
      "text/html": [
       "<div>\n",
       "<style scoped>\n",
       "    .dataframe tbody tr th:only-of-type {\n",
       "        vertical-align: middle;\n",
       "    }\n",
       "\n",
       "    .dataframe tbody tr th {\n",
       "        vertical-align: top;\n",
       "    }\n",
       "\n",
       "    .dataframe thead th {\n",
       "        text-align: right;\n",
       "    }\n",
       "</style>\n",
       "<table border=\"1\" class=\"dataframe\">\n",
       "  <thead>\n",
       "    <tr style=\"text-align: right;\">\n",
       "      <th></th>\n",
       "      <th>InvoiceNo</th>\n",
       "      <th>StockCode</th>\n",
       "      <th>Description</th>\n",
       "      <th>Quantity</th>\n",
       "      <th>InvoiceDate</th>\n",
       "      <th>UnitPrice</th>\n",
       "      <th>CustomerID</th>\n",
       "      <th>Country</th>\n",
       "      <th>Revenue</th>\n",
       "    </tr>\n",
       "  </thead>\n",
       "  <tbody>\n",
       "    <tr>\n",
       "      <th>0</th>\n",
       "      <td>536365</td>\n",
       "      <td>85123A</td>\n",
       "      <td>WHITE HANGING HEART T-LIGHT HOLDER</td>\n",
       "      <td>6</td>\n",
       "      <td>12/1/2010 8:26</td>\n",
       "      <td>2.55</td>\n",
       "      <td>17850.0</td>\n",
       "      <td>United Kingdom</td>\n",
       "      <td>15.30</td>\n",
       "    </tr>\n",
       "    <tr>\n",
       "      <th>1</th>\n",
       "      <td>536365</td>\n",
       "      <td>71053</td>\n",
       "      <td>WHITE METAL LANTERN</td>\n",
       "      <td>6</td>\n",
       "      <td>12/1/2010 8:26</td>\n",
       "      <td>3.39</td>\n",
       "      <td>17850.0</td>\n",
       "      <td>United Kingdom</td>\n",
       "      <td>20.34</td>\n",
       "    </tr>\n",
       "    <tr>\n",
       "      <th>2</th>\n",
       "      <td>536365</td>\n",
       "      <td>84406B</td>\n",
       "      <td>CREAM CUPID HEARTS COAT HANGER</td>\n",
       "      <td>8</td>\n",
       "      <td>12/1/2010 8:26</td>\n",
       "      <td>2.75</td>\n",
       "      <td>17850.0</td>\n",
       "      <td>United Kingdom</td>\n",
       "      <td>22.00</td>\n",
       "    </tr>\n",
       "    <tr>\n",
       "      <th>3</th>\n",
       "      <td>536365</td>\n",
       "      <td>84029G</td>\n",
       "      <td>KNITTED UNION FLAG HOT WATER BOTTLE</td>\n",
       "      <td>6</td>\n",
       "      <td>12/1/2010 8:26</td>\n",
       "      <td>3.39</td>\n",
       "      <td>17850.0</td>\n",
       "      <td>United Kingdom</td>\n",
       "      <td>20.34</td>\n",
       "    </tr>\n",
       "    <tr>\n",
       "      <th>4</th>\n",
       "      <td>536365</td>\n",
       "      <td>84029E</td>\n",
       "      <td>RED WOOLLY HOTTIE WHITE HEART.</td>\n",
       "      <td>6</td>\n",
       "      <td>12/1/2010 8:26</td>\n",
       "      <td>3.39</td>\n",
       "      <td>17850.0</td>\n",
       "      <td>United Kingdom</td>\n",
       "      <td>20.34</td>\n",
       "    </tr>\n",
       "  </tbody>\n",
       "</table>\n",
       "</div>"
      ],
      "text/plain": [
       "  InvoiceNo StockCode                          Description  Quantity  \\\n",
       "0    536365    85123A   WHITE HANGING HEART T-LIGHT HOLDER         6   \n",
       "1    536365     71053                  WHITE METAL LANTERN         6   \n",
       "2    536365    84406B       CREAM CUPID HEARTS COAT HANGER         8   \n",
       "3    536365    84029G  KNITTED UNION FLAG HOT WATER BOTTLE         6   \n",
       "4    536365    84029E       RED WOOLLY HOTTIE WHITE HEART.         6   \n",
       "\n",
       "      InvoiceDate  UnitPrice  CustomerID         Country  Revenue  \n",
       "0  12/1/2010 8:26       2.55     17850.0  United Kingdom    15.30  \n",
       "1  12/1/2010 8:26       3.39     17850.0  United Kingdom    20.34  \n",
       "2  12/1/2010 8:26       2.75     17850.0  United Kingdom    22.00  \n",
       "3  12/1/2010 8:26       3.39     17850.0  United Kingdom    20.34  \n",
       "4  12/1/2010 8:26       3.39     17850.0  United Kingdom    20.34  "
      ]
     },
     "execution_count": 90,
     "metadata": {},
     "output_type": "execute_result"
    }
   ],
   "source": [
    "#retail = retail.assign(Revenue = retail.Quantity * retail.UnitPrice)\n",
    "retail['Revenue'] = retail.Quantity * retail.UnitPrice\n",
    "retail.head()"
   ]
  },
  {
   "cell_type": "markdown",
   "id": "820b806f",
   "metadata": {},
   "source": [
    "#### Для каждой транзакции (InvoiceNo), посчитайте финальную сумму заказа. В качестве ответа укажите топ-5 (InvoiceNo) по сумме заказа (через запятую с пробелом и в порядке убывания TotalRevenue)"
   ]
  },
  {
   "cell_type": "code",
   "execution_count": 89,
   "id": "7e5d12c8",
   "metadata": {},
   "outputs": [
    {
     "data": {
      "text/plain": [
       "20689    581483\n",
       "2202     541431\n",
       "17582    574941\n",
       "18251    576365\n",
       "9034     556444\n",
       "Name: InvoiceNo, dtype: object"
      ]
     },
     "execution_count": 89,
     "metadata": {},
     "output_type": "execute_result"
    }
   ],
   "source": [
    "retail.groupby(\"InvoiceNo\", as_index=False).Revenue.sum().sort_values(by='Revenue', ascending=False).head(5).InvoiceNo"
   ]
  },
  {
   "cell_type": "markdown",
   "id": "9974e70b",
   "metadata": {},
   "source": [
    "## 2nd Part"
   ]
  },
  {
   "cell_type": "code",
   "execution_count": 143,
   "id": "5ef3f386",
   "metadata": {
    "scrolled": false
   },
   "outputs": [
    {
     "name": "stdout",
     "output_type": "stream",
     "text": [
      "<class 'pandas.core.frame.DataFrame'>\n",
      "RangeIndex: 5315 entries, 0 to 5314\n",
      "Data columns (total 3 columns):\n",
      " #   Column       Non-Null Count  Dtype \n",
      "---  ------       --------------  ----- \n",
      " 0   date         5315 non-null   object\n",
      " 1   name         5315 non-null   object\n",
      " 2   transaction  5315 non-null   object\n",
      "dtypes: object(3)\n",
      "memory usage: 124.7+ KB\n"
     ]
    }
   ],
   "source": [
    "df = pd.read_csv(\"E:\\\\.ML\\\\[Анатолий Карпов] [Stepic] Data Analytic Часть 1\\\\5\\\\Задания\\\\Минипроект\\\\transaction_data.csv\")\n",
    "df.info()"
   ]
  },
  {
   "cell_type": "code",
   "execution_count": 144,
   "id": "e652114a",
   "metadata": {
    "scrolled": true
   },
   "outputs": [
    {
     "data": {
      "text/html": [
       "<div>\n",
       "<style scoped>\n",
       "    .dataframe tbody tr th:only-of-type {\n",
       "        vertical-align: middle;\n",
       "    }\n",
       "\n",
       "    .dataframe tbody tr th {\n",
       "        vertical-align: top;\n",
       "    }\n",
       "\n",
       "    .dataframe thead th {\n",
       "        text-align: right;\n",
       "    }\n",
       "</style>\n",
       "<table border=\"1\" class=\"dataframe\">\n",
       "  <thead>\n",
       "    <tr style=\"text-align: right;\">\n",
       "      <th></th>\n",
       "      <th>date</th>\n",
       "      <th>name</th>\n",
       "      <th>transaction</th>\n",
       "    </tr>\n",
       "  </thead>\n",
       "  <tbody>\n",
       "    <tr>\n",
       "      <th>0</th>\n",
       "      <td>2020-03-02 00:37:20</td>\n",
       "      <td>Ekaterina_Petrova</td>\n",
       "      <td>cancelled</td>\n",
       "    </tr>\n",
       "    <tr>\n",
       "      <th>1</th>\n",
       "      <td>2020-03-02 00:59:09</td>\n",
       "      <td>Irina_Fedorova</td>\n",
       "      <td>successfull</td>\n",
       "    </tr>\n",
       "    <tr>\n",
       "      <th>2</th>\n",
       "      <td>2020-03-02 01:06:14</td>\n",
       "      <td>Ekaterina_Smirnova</td>\n",
       "      <td>successfull</td>\n",
       "    </tr>\n",
       "    <tr>\n",
       "      <th>3</th>\n",
       "      <td>2020-03-02 00:02:58</td>\n",
       "      <td>Lolita_Polyanova</td>\n",
       "      <td>cancelled</td>\n",
       "    </tr>\n",
       "    <tr>\n",
       "      <th>4</th>\n",
       "      <td>2020-03-02 00:17:52</td>\n",
       "      <td>Julia_Smirnova</td>\n",
       "      <td>cancelled</td>\n",
       "    </tr>\n",
       "  </tbody>\n",
       "</table>\n",
       "</div>"
      ],
      "text/plain": [
       "                  date                name  transaction\n",
       "0  2020-03-02 00:37:20   Ekaterina_Petrova    cancelled\n",
       "1  2020-03-02 00:59:09      Irina_Fedorova  successfull\n",
       "2  2020-03-02 01:06:14  Ekaterina_Smirnova  successfull\n",
       "3  2020-03-02 00:02:58    Lolita_Polyanova    cancelled\n",
       "4  2020-03-02 00:17:52      Julia_Smirnova    cancelled"
      ]
     },
     "execution_count": 144,
     "metadata": {},
     "output_type": "execute_result"
    }
   ],
   "source": [
    "df.head()"
   ]
  },
  {
   "cell_type": "code",
   "execution_count": 145,
   "id": "f03d141e",
   "metadata": {},
   "outputs": [],
   "source": [
    "df.replace(\"successfull\", 'successful', inplace=True)"
   ]
  },
  {
   "cell_type": "markdown",
   "id": "81b04611",
   "metadata": {},
   "source": [
    "#### Какие значения находятся в колонке transaction? Сколько наблюдений относятся к тому или иному уровню? Визуализируйте результат с помощью барплота. Подумайте, как можно улучшить график."
   ]
  },
  {
   "cell_type": "code",
   "execution_count": 146,
   "id": "8d380851",
   "metadata": {
    "scrolled": true
   },
   "outputs": [
    {
     "data": {
      "text/plain": [
       "array(['cancelled', 'successful', 'error'], dtype=object)"
      ]
     },
     "execution_count": 146,
     "metadata": {},
     "output_type": "execute_result"
    }
   ],
   "source": [
    "df.transaction.unique()"
   ]
  },
  {
   "cell_type": "code",
   "execution_count": 147,
   "id": "7f70fcf6",
   "metadata": {},
   "outputs": [
    {
     "data": {
      "image/png": "[encoded data removed]",
      "text/plain": [
       "<Figure size 432x288 with 1 Axes>"
      ]
     },
     "metadata": {
      "image/png": {
       "height": 266,
       "width": 398
      }
     },
     "output_type": "display_data"
    }
   ],
   "source": [
    "sns.countplot(df.transaction);"
   ]
  },
  {
   "cell_type": "code",
   "execution_count": 148,
   "id": "e907295c",
   "metadata": {},
   "outputs": [
    {
     "data": {
      "text/plain": [
       "4"
      ]
     },
     "execution_count": 148,
     "metadata": {},
     "output_type": "execute_result"
    }
   ],
   "source": [
    "df.transaction.value_counts().error"
   ]
  },
  {
   "cell_type": "code",
   "execution_count": 149,
   "id": "c059a85e",
   "metadata": {
    "scrolled": true
   },
   "outputs": [
    {
     "data": {
      "text/plain": [
       "array([[<AxesSubplot:title={'center':'transaction'}>]], dtype=object)"
      ]
     },
     "execution_count": 149,
     "metadata": {},
     "output_type": "execute_result"
    },
    {
     "data": {
      "image/png": "[encoded data removed]",
      "text/plain": [
       "<Figure size 432x288 with 1 Axes>"
      ]
     },
     "metadata": {
      "image/png": {
       "height": 266,
       "width": 370
      }
     },
     "output_type": "display_data"
    }
   ],
   "source": [
    "df.query('transaction == \"successful\"').groupby('name', as_index=False).transaction.count().hist()"
   ]
  },
  {
   "cell_type": "markdown",
   "id": "d0cf6f0b",
   "metadata": {},
   "source": [
    "#### Коллега прислал Вам обновленные данные. (transaction_data_updated.csv)\n",
    "#### Постройте сводную таблицу user_vs_minute_pivot, где в качестве столбцов будут использованы имена пользователей, строк – минуты, значений – число совершенных операций в указанную минуту. Пропущенные значения заполните нулями."
   ]
  },
  {
   "cell_type": "code",
   "execution_count": 150,
   "id": "924f5fa3",
   "metadata": {},
   "outputs": [],
   "source": [
    "df_upd = pd.read_csv(\"E:\\\\.ML\\\\[Анатолий Карпов] [Stepic] Data Analytic Часть 1\\\\5\\\\Задания\\\\Минипроект\\\\transaction_data_updated.csv\")"
   ]
  },
  {
   "cell_type": "code",
   "execution_count": 159,
   "id": "43c3dbbf",
   "metadata": {},
   "outputs": [
    {
     "data": {
      "text/html": [
       "<div>\n",
       "<style scoped>\n",
       "    .dataframe tbody tr th:only-of-type {\n",
       "        vertical-align: middle;\n",
       "    }\n",
       "\n",
       "    .dataframe tbody tr th {\n",
       "        vertical-align: top;\n",
       "    }\n",
       "\n",
       "    .dataframe thead th {\n",
       "        text-align: right;\n",
       "    }\n",
       "</style>\n",
       "<table border=\"1\" class=\"dataframe\">\n",
       "  <thead>\n",
       "    <tr style=\"text-align: right;\">\n",
       "      <th></th>\n",
       "      <th>name</th>\n",
       "      <th>minute</th>\n",
       "      <th>transaction</th>\n",
       "    </tr>\n",
       "  </thead>\n",
       "  <tbody>\n",
       "    <tr>\n",
       "      <th>0</th>\n",
       "      <td>Ekaterina_Fedorova</td>\n",
       "      <td>0</td>\n",
       "      <td>3</td>\n",
       "    </tr>\n",
       "    <tr>\n",
       "      <th>1</th>\n",
       "      <td>Ekaterina_Fedorova</td>\n",
       "      <td>1</td>\n",
       "      <td>4</td>\n",
       "    </tr>\n",
       "    <tr>\n",
       "      <th>2</th>\n",
       "      <td>Ekaterina_Fedorova</td>\n",
       "      <td>2</td>\n",
       "      <td>1</td>\n",
       "    </tr>\n",
       "    <tr>\n",
       "      <th>3</th>\n",
       "      <td>Ekaterina_Fedorova</td>\n",
       "      <td>3</td>\n",
       "      <td>3</td>\n",
       "    </tr>\n",
       "    <tr>\n",
       "      <th>4</th>\n",
       "      <td>Ekaterina_Fedorova</td>\n",
       "      <td>4</td>\n",
       "      <td>3</td>\n",
       "    </tr>\n",
       "    <tr>\n",
       "      <th>...</th>\n",
       "      <td>...</td>\n",
       "      <td>...</td>\n",
       "      <td>...</td>\n",
       "    </tr>\n",
       "    <tr>\n",
       "      <th>2573</th>\n",
       "      <td>Vasilisa_Smirnova</td>\n",
       "      <td>52</td>\n",
       "      <td>1</td>\n",
       "    </tr>\n",
       "    <tr>\n",
       "      <th>2574</th>\n",
       "      <td>Vasilisa_Smirnova</td>\n",
       "      <td>53</td>\n",
       "      <td>1</td>\n",
       "    </tr>\n",
       "    <tr>\n",
       "      <th>2575</th>\n",
       "      <td>Vasilisa_Smirnova</td>\n",
       "      <td>54</td>\n",
       "      <td>2</td>\n",
       "    </tr>\n",
       "    <tr>\n",
       "      <th>2576</th>\n",
       "      <td>Vasilisa_Smirnova</td>\n",
       "      <td>56</td>\n",
       "      <td>3</td>\n",
       "    </tr>\n",
       "    <tr>\n",
       "      <th>2577</th>\n",
       "      <td>Vasilisa_Smirnova</td>\n",
       "      <td>58</td>\n",
       "      <td>1</td>\n",
       "    </tr>\n",
       "  </tbody>\n",
       "</table>\n",
       "<p>2578 rows × 3 columns</p>\n",
       "</div>"
      ],
      "text/plain": [
       "                    name  minute  transaction\n",
       "0     Ekaterina_Fedorova       0            3\n",
       "1     Ekaterina_Fedorova       1            4\n",
       "2     Ekaterina_Fedorova       2            1\n",
       "3     Ekaterina_Fedorova       3            3\n",
       "4     Ekaterina_Fedorova       4            3\n",
       "...                  ...     ...          ...\n",
       "2573   Vasilisa_Smirnova      52            1\n",
       "2574   Vasilisa_Smirnova      53            1\n",
       "2575   Vasilisa_Smirnova      54            2\n",
       "2576   Vasilisa_Smirnova      56            3\n",
       "2577   Vasilisa_Smirnova      58            1\n",
       "\n",
       "[2578 rows x 3 columns]"
      ]
     },
     "execution_count": 159,
     "metadata": {},
     "output_type": "execute_result"
    }
   ],
   "source": [
    "trans_numb = df_upd.groupby(['name', 'minute'], as_index=False).transaction.count()\n",
    "trans_numb"
   ]
  },
  {
   "cell_type": "code",
   "execution_count": 167,
   "id": "26b151f3",
   "metadata": {},
   "outputs": [
    {
     "data": {
      "text/html": [
       "<div>\n",
       "<style scoped>\n",
       "    .dataframe tbody tr th:only-of-type {\n",
       "        vertical-align: middle;\n",
       "    }\n",
       "\n",
       "    .dataframe tbody tr th {\n",
       "        vertical-align: top;\n",
       "    }\n",
       "\n",
       "    .dataframe thead tr th {\n",
       "        text-align: left;\n",
       "    }\n",
       "\n",
       "    .dataframe thead tr:last-of-type th {\n",
       "        text-align: right;\n",
       "    }\n",
       "</style>\n",
       "<table border=\"1\" class=\"dataframe\">\n",
       "  <thead>\n",
       "    <tr>\n",
       "      <th></th>\n",
       "      <th colspan=\"21\" halign=\"left\">transaction</th>\n",
       "    </tr>\n",
       "    <tr>\n",
       "      <th>minute</th>\n",
       "      <th>0</th>\n",
       "      <th>1</th>\n",
       "      <th>2</th>\n",
       "      <th>3</th>\n",
       "      <th>4</th>\n",
       "      <th>5</th>\n",
       "      <th>6</th>\n",
       "      <th>7</th>\n",
       "      <th>8</th>\n",
       "      <th>9</th>\n",
       "      <th>...</th>\n",
       "      <th>50</th>\n",
       "      <th>51</th>\n",
       "      <th>52</th>\n",
       "      <th>53</th>\n",
       "      <th>54</th>\n",
       "      <th>55</th>\n",
       "      <th>56</th>\n",
       "      <th>57</th>\n",
       "      <th>58</th>\n",
       "      <th>59</th>\n",
       "    </tr>\n",
       "    <tr>\n",
       "      <th>name</th>\n",
       "      <th></th>\n",
       "      <th></th>\n",
       "      <th></th>\n",
       "      <th></th>\n",
       "      <th></th>\n",
       "      <th></th>\n",
       "      <th></th>\n",
       "      <th></th>\n",
       "      <th></th>\n",
       "      <th></th>\n",
       "      <th></th>\n",
       "      <th></th>\n",
       "      <th></th>\n",
       "      <th></th>\n",
       "      <th></th>\n",
       "      <th></th>\n",
       "      <th></th>\n",
       "      <th></th>\n",
       "      <th></th>\n",
       "      <th></th>\n",
       "      <th></th>\n",
       "    </tr>\n",
       "  </thead>\n",
       "  <tbody>\n",
       "    <tr>\n",
       "      <th>Ekaterina_Fedorova</th>\n",
       "      <td>3.0</td>\n",
       "      <td>4.0</td>\n",
       "      <td>1.0</td>\n",
       "      <td>3.0</td>\n",
       "      <td>3.0</td>\n",
       "      <td>3.0</td>\n",
       "      <td>4.0</td>\n",
       "      <td>3.0</td>\n",
       "      <td>2.0</td>\n",
       "      <td>2.0</td>\n",
       "      <td>...</td>\n",
       "      <td>1.0</td>\n",
       "      <td>1.0</td>\n",
       "      <td>2.0</td>\n",
       "      <td>1.0</td>\n",
       "      <td>2.0</td>\n",
       "      <td>0.0</td>\n",
       "      <td>0.0</td>\n",
       "      <td>1.0</td>\n",
       "      <td>0.0</td>\n",
       "      <td>1.0</td>\n",
       "    </tr>\n",
       "    <tr>\n",
       "      <th>Ekaterina_Ivanova</th>\n",
       "      <td>4.0</td>\n",
       "      <td>4.0</td>\n",
       "      <td>2.0</td>\n",
       "      <td>0.0</td>\n",
       "      <td>0.0</td>\n",
       "      <td>0.0</td>\n",
       "      <td>1.0</td>\n",
       "      <td>2.0</td>\n",
       "      <td>4.0</td>\n",
       "      <td>4.0</td>\n",
       "      <td>...</td>\n",
       "      <td>0.0</td>\n",
       "      <td>0.0</td>\n",
       "      <td>0.0</td>\n",
       "      <td>0.0</td>\n",
       "      <td>0.0</td>\n",
       "      <td>0.0</td>\n",
       "      <td>0.0</td>\n",
       "      <td>1.0</td>\n",
       "      <td>2.0</td>\n",
       "      <td>1.0</td>\n",
       "    </tr>\n",
       "    <tr>\n",
       "      <th>Ekaterina_Lesnova</th>\n",
       "      <td>2.0</td>\n",
       "      <td>0.0</td>\n",
       "      <td>4.0</td>\n",
       "      <td>2.0</td>\n",
       "      <td>0.0</td>\n",
       "      <td>2.0</td>\n",
       "      <td>2.0</td>\n",
       "      <td>1.0</td>\n",
       "      <td>3.0</td>\n",
       "      <td>2.0</td>\n",
       "      <td>...</td>\n",
       "      <td>0.0</td>\n",
       "      <td>2.0</td>\n",
       "      <td>2.0</td>\n",
       "      <td>0.0</td>\n",
       "      <td>1.0</td>\n",
       "      <td>3.0</td>\n",
       "      <td>0.0</td>\n",
       "      <td>2.0</td>\n",
       "      <td>1.0</td>\n",
       "      <td>1.0</td>\n",
       "    </tr>\n",
       "    <tr>\n",
       "      <th>Ekaterina_Ozerova</th>\n",
       "      <td>3.0</td>\n",
       "      <td>4.0</td>\n",
       "      <td>4.0</td>\n",
       "      <td>0.0</td>\n",
       "      <td>3.0</td>\n",
       "      <td>3.0</td>\n",
       "      <td>2.0</td>\n",
       "      <td>2.0</td>\n",
       "      <td>1.0</td>\n",
       "      <td>3.0</td>\n",
       "      <td>...</td>\n",
       "      <td>3.0</td>\n",
       "      <td>1.0</td>\n",
       "      <td>3.0</td>\n",
       "      <td>0.0</td>\n",
       "      <td>1.0</td>\n",
       "      <td>2.0</td>\n",
       "      <td>2.0</td>\n",
       "      <td>1.0</td>\n",
       "      <td>0.0</td>\n",
       "      <td>1.0</td>\n",
       "    </tr>\n",
       "    <tr>\n",
       "      <th>Ekaterina_Petrova</th>\n",
       "      <td>4.0</td>\n",
       "      <td>2.0</td>\n",
       "      <td>2.0</td>\n",
       "      <td>5.0</td>\n",
       "      <td>1.0</td>\n",
       "      <td>1.0</td>\n",
       "      <td>0.0</td>\n",
       "      <td>2.0</td>\n",
       "      <td>0.0</td>\n",
       "      <td>4.0</td>\n",
       "      <td>...</td>\n",
       "      <td>1.0</td>\n",
       "      <td>5.0</td>\n",
       "      <td>1.0</td>\n",
       "      <td>1.0</td>\n",
       "      <td>0.0</td>\n",
       "      <td>2.0</td>\n",
       "      <td>0.0</td>\n",
       "      <td>1.0</td>\n",
       "      <td>0.0</td>\n",
       "      <td>1.0</td>\n",
       "    </tr>\n",
       "  </tbody>\n",
       "</table>\n",
       "<p>5 rows × 60 columns</p>\n",
       "</div>"
      ],
      "text/plain": [
       "                   transaction                                               \\\n",
       "minute                      0    1    2    3    4    5    6    7    8    9    \n",
       "name                                                                          \n",
       "Ekaterina_Fedorova         3.0  4.0  1.0  3.0  3.0  3.0  4.0  3.0  2.0  2.0   \n",
       "Ekaterina_Ivanova          4.0  4.0  2.0  0.0  0.0  0.0  1.0  2.0  4.0  4.0   \n",
       "Ekaterina_Lesnova          2.0  0.0  4.0  2.0  0.0  2.0  2.0  1.0  3.0  2.0   \n",
       "Ekaterina_Ozerova          3.0  4.0  4.0  0.0  3.0  3.0  2.0  2.0  1.0  3.0   \n",
       "Ekaterina_Petrova          4.0  2.0  2.0  5.0  1.0  1.0  0.0  2.0  0.0  4.0   \n",
       "\n",
       "                    ...                                                    \n",
       "minute              ...   50   51   52   53   54   55   56   57   58   59  \n",
       "name                ...                                                    \n",
       "Ekaterina_Fedorova  ...  1.0  1.0  2.0  1.0  2.0  0.0  0.0  1.0  0.0  1.0  \n",
       "Ekaterina_Ivanova   ...  0.0  0.0  0.0  0.0  0.0  0.0  0.0  1.0  2.0  1.0  \n",
       "Ekaterina_Lesnova   ...  0.0  2.0  2.0  0.0  1.0  3.0  0.0  2.0  1.0  1.0  \n",
       "Ekaterina_Ozerova   ...  3.0  1.0  3.0  0.0  1.0  2.0  2.0  1.0  0.0  1.0  \n",
       "Ekaterina_Petrova   ...  1.0  5.0  1.0  1.0  0.0  2.0  0.0  1.0  0.0  1.0  \n",
       "\n",
       "[5 rows x 60 columns]"
      ]
     },
     "execution_count": 167,
     "metadata": {},
     "output_type": "execute_result"
    }
   ],
   "source": [
    "trans_numb.pivot(index='name', columns='minute').fillna(0).head()"
   ]
  },
  {
   "cell_type": "code",
   "execution_count": 171,
   "id": "13b2242c",
   "metadata": {},
   "outputs": [],
   "source": [
    "pivot = df_upd.pivot_table(index='name', columns='minute', values='transaction', aggfunc='count', fill_value=0)"
   ]
  },
  {
   "cell_type": "code",
   "execution_count": 177,
   "id": "46927f1e",
   "metadata": {
    "scrolled": false
   },
   "outputs": [
    {
     "data": {
      "image/png": "[encoded data removed]",
      "text/plain": [
       "<Figure size 864x576 with 1 Axes>"
      ]
     },
     "metadata": {
      "image/png": {
       "height": 486,
       "width": 711
      }
     },
     "output_type": "display_data"
    }
   ],
   "source": [
    "pivot.sum(axis=0).plot(kind='bar', figsize=(12, 8));"
   ]
  },
  {
   "cell_type": "markdown",
   "id": "c98d1e87",
   "metadata": {},
   "source": [
    "### Ошибка в неправльной колонке minutes. Минуты не включают в себя часы. Исправим."
   ]
  },
  {
   "cell_type": "code",
   "execution_count": 183,
   "id": "6f38b7ef",
   "metadata": {},
   "outputs": [
    {
     "data": {
      "text/html": [
       "<div>\n",
       "<style scoped>\n",
       "    .dataframe tbody tr th:only-of-type {\n",
       "        vertical-align: middle;\n",
       "    }\n",
       "\n",
       "    .dataframe tbody tr th {\n",
       "        vertical-align: top;\n",
       "    }\n",
       "\n",
       "    .dataframe thead th {\n",
       "        text-align: right;\n",
       "    }\n",
       "</style>\n",
       "<table border=\"1\" class=\"dataframe\">\n",
       "  <thead>\n",
       "    <tr style=\"text-align: right;\">\n",
       "      <th></th>\n",
       "      <th>date</th>\n",
       "      <th>name</th>\n",
       "      <th>transaction</th>\n",
       "      <th>minute</th>\n",
       "      <th>true_minutes</th>\n",
       "    </tr>\n",
       "  </thead>\n",
       "  <tbody>\n",
       "    <tr>\n",
       "      <th>0</th>\n",
       "      <td>2020-03-02 00:37:20</td>\n",
       "      <td>Ekaterina_Petrova</td>\n",
       "      <td>cancelled</td>\n",
       "      <td>37</td>\n",
       "      <td>37</td>\n",
       "    </tr>\n",
       "    <tr>\n",
       "      <th>1</th>\n",
       "      <td>2020-03-02 00:59:09</td>\n",
       "      <td>Irina_Fedorova</td>\n",
       "      <td>successfull</td>\n",
       "      <td>59</td>\n",
       "      <td>59</td>\n",
       "    </tr>\n",
       "    <tr>\n",
       "      <th>2</th>\n",
       "      <td>2020-03-02 01:06:14</td>\n",
       "      <td>Ekaterina_Smirnova</td>\n",
       "      <td>successfull</td>\n",
       "      <td>6</td>\n",
       "      <td>66</td>\n",
       "    </tr>\n",
       "    <tr>\n",
       "      <th>3</th>\n",
       "      <td>2020-03-02 00:02:58</td>\n",
       "      <td>Lolita_Polyanova</td>\n",
       "      <td>cancelled</td>\n",
       "      <td>2</td>\n",
       "      <td>2</td>\n",
       "    </tr>\n",
       "    <tr>\n",
       "      <th>4</th>\n",
       "      <td>2020-03-02 00:17:52</td>\n",
       "      <td>Julia_Smirnova</td>\n",
       "      <td>cancelled</td>\n",
       "      <td>17</td>\n",
       "      <td>17</td>\n",
       "    </tr>\n",
       "    <tr>\n",
       "      <th>...</th>\n",
       "      <td>...</td>\n",
       "      <td>...</td>\n",
       "      <td>...</td>\n",
       "      <td>...</td>\n",
       "      <td>...</td>\n",
       "    </tr>\n",
       "    <tr>\n",
       "      <th>5310</th>\n",
       "      <td>2020-03-02 00:09:28</td>\n",
       "      <td>Vasilisa_Fedorova</td>\n",
       "      <td>successfull</td>\n",
       "      <td>9</td>\n",
       "      <td>9</td>\n",
       "    </tr>\n",
       "    <tr>\n",
       "      <th>5311</th>\n",
       "      <td>2020-03-02 00:46:31</td>\n",
       "      <td>Vasilisa_Ozerova</td>\n",
       "      <td>successfull</td>\n",
       "      <td>46</td>\n",
       "      <td>46</td>\n",
       "    </tr>\n",
       "    <tr>\n",
       "      <th>5312</th>\n",
       "      <td>2020-03-02 00:16:38</td>\n",
       "      <td>Olga_Polyanova</td>\n",
       "      <td>successfull</td>\n",
       "      <td>16</td>\n",
       "      <td>16</td>\n",
       "    </tr>\n",
       "    <tr>\n",
       "      <th>5313</th>\n",
       "      <td>2020-03-02 00:13:00</td>\n",
       "      <td>Ekaterina_Smirnova</td>\n",
       "      <td>successfull</td>\n",
       "      <td>13</td>\n",
       "      <td>13</td>\n",
       "    </tr>\n",
       "    <tr>\n",
       "      <th>5314</th>\n",
       "      <td>2020-03-02 01:15:45</td>\n",
       "      <td>Irina_Fedorova</td>\n",
       "      <td>cancelled</td>\n",
       "      <td>15</td>\n",
       "      <td>75</td>\n",
       "    </tr>\n",
       "  </tbody>\n",
       "</table>\n",
       "<p>5315 rows × 5 columns</p>\n",
       "</div>"
      ],
      "text/plain": [
       "                    date                name  transaction  minute  \\\n",
       "0    2020-03-02 00:37:20   Ekaterina_Petrova    cancelled      37   \n",
       "1    2020-03-02 00:59:09      Irina_Fedorova  successfull      59   \n",
       "2    2020-03-02 01:06:14  Ekaterina_Smirnova  successfull       6   \n",
       "3    2020-03-02 00:02:58    Lolita_Polyanova    cancelled       2   \n",
       "4    2020-03-02 00:17:52      Julia_Smirnova    cancelled      17   \n",
       "...                  ...                 ...          ...     ...   \n",
       "5310 2020-03-02 00:09:28   Vasilisa_Fedorova  successfull       9   \n",
       "5311 2020-03-02 00:46:31    Vasilisa_Ozerova  successfull      46   \n",
       "5312 2020-03-02 00:16:38      Olga_Polyanova  successfull      16   \n",
       "5313 2020-03-02 00:13:00  Ekaterina_Smirnova  successfull      13   \n",
       "5314 2020-03-02 01:15:45      Irina_Fedorova    cancelled      15   \n",
       "\n",
       "      true_minutes  \n",
       "0               37  \n",
       "1               59  \n",
       "2               66  \n",
       "3                2  \n",
       "4               17  \n",
       "...            ...  \n",
       "5310             9  \n",
       "5311            46  \n",
       "5312            16  \n",
       "5313            13  \n",
       "5314            75  \n",
       "\n",
       "[5315 rows x 5 columns]"
      ]
     },
     "execution_count": 183,
     "metadata": {},
     "output_type": "execute_result"
    }
   ],
   "source": [
    "df_upd['date'] = pd.to_datetime(df_upd['date'])\n",
    "df_upd['true_minutes'] = df_upd.date.dt.hour * 60 + df_upd.date.dt.minute\n",
    "df_upd"
   ]
  },
  {
   "cell_type": "code",
   "execution_count": 184,
   "id": "ea927d69",
   "metadata": {},
   "outputs": [],
   "source": [
    "pivot2 = df_upd.pivot_table(index='name', columns='true_minutes', values='transaction', aggfunc='count', fill_value=0)"
   ]
  },
  {
   "cell_type": "code",
   "execution_count": 185,
   "id": "33516444",
   "metadata": {
    "scrolled": false
   },
   "outputs": [
    {
     "data": {
      "image/png": "[encoded data removed]",
      "text/plain": [
       "<Figure size 864x576 with 1 Axes>"
      ]
     },
     "metadata": {
      "image/png": {
       "height": 486,
       "width": 707
      }
     },
     "output_type": "display_data"
    }
   ],
   "source": [
    "pivot2.sum(axis=0).plot(kind='bar', figsize=(12, 8));"
   ]
  },
  {
   "cell_type": "code",
   "execution_count": null,
   "id": "6edb62a3",
   "metadata": {},
   "outputs": [],
   "source": []
  }
 ],
 "metadata": {
  "kernelspec": {
   "display_name": "Python 3",
   "language": "python",
   "name": "python3"
  },
  "language_info": {
   "codemirror_mode": {
    "name": "ipython",
    "version": 3
   },
   "file_extension": ".py",
   "mimetype": "text/x-python",
   "name": "python",
   "nbconvert_exporter": "python",
   "pygments_lexer": "ipython3",
   "version": "3.8.5"
  }
 },
 "nbformat": 4,
 "nbformat_minor": 5
}
